{
 "cells": [
  {
   "cell_type": "code",
   "execution_count": 34,
   "metadata": {},
   "outputs": [],
   "source": [
    "import requests\n"
   ]
  },
  {
   "cell_type": "code",
   "execution_count": 17,
   "metadata": {},
   "outputs": [],
   "source": [
    "from lxml import html"
   ]
  },
  {
   "cell_type": "code",
   "execution_count": 38,
   "metadata": {},
   "outputs": [],
   "source": [
    "title=[]\n",
    "for i in range(1,70):\n",
    "    allurl='http://www.shicimingju.com/chaxun/zuozhe/8_'+str(i)+'.html'\n",
    "    allurl=requests.get(allurl).text\n",
    "    ex=html.fromstring(allurl)\n",
    "    title.extend(ex.xpath(\"//h3/a/@href\"))\n"
   ]
  },
  {
   "cell_type": "code",
   "execution_count": 39,
   "metadata": {},
   "outputs": [
    {
     "data": {
      "text/plain": [
       "2741"
      ]
     },
     "execution_count": 39,
     "metadata": {},
     "output_type": "execute_result"
    }
   ],
   "source": [
    "len(title)"
   ]
  },
  {
   "cell_type": "code",
   "execution_count": 43,
   "metadata": {
    "collapsed": true
   },
   "outputs": [
    {
     "ename": "TypeError",
     "evalue": "write() argument must be str, not list",
     "output_type": "error",
     "traceback": [
      "\u001b[1;31m---------------------------------------------------------------------------\u001b[0m",
      "\u001b[1;31mTypeError\u001b[0m                                 Traceback (most recent call last)",
      "\u001b[1;32m<ipython-input-43-50ca8c75ac0a>\u001b[0m in \u001b[0;36m<module>\u001b[1;34m()\u001b[0m\n\u001b[0;32m      6\u001b[0m         \u001b[0mxmlcon\u001b[0m\u001b[1;33m=\u001b[0m\u001b[0mhtml\u001b[0m\u001b[1;33m.\u001b[0m\u001b[0mfromstring\u001b[0m\u001b[1;33m(\u001b[0m\u001b[0mallcon\u001b[0m\u001b[1;33m)\u001b[0m\u001b[1;33m\u001b[0m\u001b[0m\n\u001b[0;32m      7\u001b[0m         \u001b[0mname\u001b[0m\u001b[1;33m=\u001b[0m\u001b[0mxmlcon\u001b[0m\u001b[1;33m.\u001b[0m\u001b[0mxpath\u001b[0m\u001b[1;33m(\u001b[0m\u001b[1;34m'//h1[class=\"shici-title\"]/text()'\u001b[0m\u001b[1;33m)\u001b[0m\u001b[1;33m\u001b[0m\u001b[0m\n\u001b[1;32m----> 8\u001b[1;33m         \u001b[0mf\u001b[0m\u001b[1;33m.\u001b[0m\u001b[0mwrite\u001b[0m\u001b[1;33m(\u001b[0m\u001b[0mname\u001b[0m\u001b[1;33m)\u001b[0m\u001b[1;33m\u001b[0m\u001b[0m\n\u001b[0m\u001b[0;32m      9\u001b[0m         \u001b[0mpoem\u001b[0m\u001b[1;33m=\u001b[0m\u001b[0mxmlcon\u001b[0m\u001b[1;33m.\u001b[0m\u001b[0mxpath\u001b[0m\u001b[1;33m(\u001b[0m\u001b[1;34m'//div[class=\"shici-content\"]/text()'\u001b[0m\u001b[1;33m)\u001b[0m\u001b[1;33m\u001b[0m\u001b[0m\n\u001b[0;32m     10\u001b[0m         \u001b[0mf\u001b[0m\u001b[1;33m.\u001b[0m\u001b[0mwrite\u001b[0m\u001b[1;33m(\u001b[0m\u001b[0mpoem\u001b[0m\u001b[1;33m)\u001b[0m\u001b[1;33m\u001b[0m\u001b[0m\n",
      "\u001b[1;31mTypeError\u001b[0m: write() argument must be str, not list"
     ]
    }
   ],
   "source": [
    "content=[]\n",
    "with open('baijuyi.csv',\"w\") as f:\n",
    "    for i in title:\n",
    "        url='http://www.shicimingju.com'+i\n",
    "        allcon=requests.get(url).text\n",
    "        xmlcon=html.fromstring(allcon)\n",
    "        name=xmlcon.xpath('//h1[class=\"shici-title\"]/text()')\n",
    "        f.write(name)\n",
    "        poem=xmlcon.xpath('//div[class=\"shici-content\"]/text()')\n",
    "        f.write(poem)\n",
    "    "
   ]
  },
  {
   "cell_type": "code",
   "execution_count": 64,
   "metadata": {},
   "outputs": [],
   "source": [
    "content=[]\n",
    "with open('baijuyi.csv',\"w\") as f:\n",
    "    for i in title:\n",
    "        url='http://www.shicimingju.com'+i\n",
    "        allcon=requests.get(url).text\n",
    "        xmlcon=html.fromstring(allcon)\n",
    "        name=xmlcon.xpath('//h1[@class=\"shici-title\"]/text()')\n",
    "        for j in name:\n",
    "            f.write(j)\n",
    "            f.write(' ')\n",
    "        poem=xmlcon.xpath('//div[@class=\"shici-content\"]/text()')\n",
    "        for k in poem:\n",
    "            f.write(k.strip().replace('\\r\\n',''))\n",
    "        f.write('\\n\\n')"
   ]
  },
  {
   "cell_type": "code",
   "execution_count": 55,
   "metadata": {},
   "outputs": [],
   "source": [
    "test=\"http://www.shicimingju.com/chaxun/list/64173.html\"\n",
    "test=requests.get(test).text\n",
    "test=html.fromstring(test)"
   ]
  },
  {
   "cell_type": "code",
   "execution_count": 63,
   "metadata": {},
   "outputs": [
    {
     "name": "stdout",
     "output_type": "stream",
     "text": [
      "缭绫缭绫何所似，不似罗绡与纨绮。应似天台山上月明前，四十五尺瀑布泉。中有文章又奇绝，地铺白烟花簇雪。\n",
      "织者何人衣者谁，越溪寒女汉宫姬。去年中使宣口敕，天上取样人间织。织为云外秋雁行，染作江南春水色。\n",
      "广裁衫袖长制裙，金斗熨波刀翦纹。异彩奇文相隐映，转侧看花花不定。昭阳舞人恩正深，春衣一对直千金。\n",
      "汗沾粉污不再著，曳土蹋泥无惜心。缭绫织成费功绩，莫比寻常缯与帛。丝细缲多女手疼，扎扎千声不盈尺。\n",
      "昭阳殿里歌舞人。若见织时应也惜。\n"
     ]
    }
   ],
   "source": [
    "for m in test.xpath('//div[@class=\"shici-content\"]/text()'):\n",
    "    print(m.strip().replace('\\r\\n',''))"
   ]
  },
  {
   "cell_type": "code",
   "execution_count": 60,
   "metadata": {},
   "outputs": [
    {
     "data": {
      "text/plain": [
       "['\\n                   缭绫缭绫何所似，不似罗绡与纨绮。\\r\\n应似天台山上月明前，四十五尺瀑布泉。\\r\\n中有文章又奇绝，地铺白烟花簇雪。\\r\\n',\n",
       " '\\r\\n织者何人衣者谁，越溪寒女汉宫姬。\\r\\n去年中使宣口敕，天上取样人间织。\\r\\n织为云外秋雁行，染作江南春水色。\\r\\n',\n",
       " '\\r\\n广裁衫袖长制裙，金斗熨波刀翦纹。\\r\\n异彩奇文相隐映，转侧看花花不定。\\r\\n昭阳舞人恩正深，春衣一对直千金。\\r\\n',\n",
       " '\\r\\n汗沾粉污不再著，曳土蹋泥无惜心。\\r\\n缭绫织成费功绩，莫比寻常缯与帛。\\r\\n丝细缲多女手疼，扎扎千声不盈尺。\\r\\n',\n",
       " '\\r\\n昭阳殿里歌舞人。若见织时应也惜。\\r\\n\\r\\n\\r\\n        \\n               ']"
      ]
     },
     "execution_count": 60,
     "metadata": {},
     "output_type": "execute_result"
    }
   ],
   "source": [
    "test.xpath('//div[@class=\"shici-content\"]/text()')"
   ]
  },
  {
   "cell_type": "code",
   "execution_count": null,
   "metadata": {},
   "outputs": [],
   "source": []
  }
 ],
 "metadata": {
  "kernelspec": {
   "display_name": "Python 3",
   "language": "python",
   "name": "python3"
  },
  "language_info": {
   "codemirror_mode": {
    "name": "ipython",
    "version": 3
   },
   "file_extension": ".py",
   "mimetype": "text/x-python",
   "name": "python",
   "nbconvert_exporter": "python",
   "pygments_lexer": "ipython3",
   "version": "3.6.4"
  }
 },
 "nbformat": 4,
 "nbformat_minor": 2
}
